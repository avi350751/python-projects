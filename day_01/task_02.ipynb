{
 "cells": [
  {
   "cell_type": "markdown",
   "metadata": {},
   "source": [
    "Write a program that will give you in hand monthly salary after deduction on CTC - HRA(10%), DA(5%), PF(3%) and taxes deduction as below:\n",
    "Salary(Lakhs) : \n",
    "\n",
    "Tax(%)\n",
    "- Below 5 : 0%\n",
    "- 5-10 : 10%\n",
    "- 10-20 : 20%\n",
    "- above 20 : 30%"
   ]
  },
  {
   "cell_type": "code",
   "execution_count": 7,
   "metadata": {},
   "outputs": [
    {
     "name": "stdout",
     "output_type": "stream",
     "text": [
      "Inhand salary is 5.76 and monthly salary is 0.48\n"
     ]
    }
   ],
   "source": [
    "ctc = float(input(\"What is your CTC?: \"))\n",
    "deductions = 0.10 + 0.05 + 0.03  # HRA (10%) + DA (5%) + PF (3%)\n",
    "if ctc < 5:\n",
    "    tax = 0\n",
    "elif ctc >= 5 and ctc < 10:\n",
    "    tax = ctc * 0.10\n",
    "elif ctc > 10 and ctc <= 20:\n",
    "    tax = ctc * 0.20\n",
    "else:\n",
    "    tax = ctc * 0.30\n",
    "#salary = (ctc *( 1 - (0.10 + 0.05 + 0.03))) - tax\n",
    "salary = (ctc *( 1 - deductions)) - tax\n",
    "monthly_salary = salary / 12\n",
    "print(f\"Inhand salary is {salary} and monthly salary is {monthly_salary}\")"
   ]
  },
  {
   "cell_type": "markdown",
   "metadata": {},
   "source": [
    "Write a program that take a user input of three angles and will find out whether it can form a triangle or not."
   ]
  },
  {
   "cell_type": "code",
   "execution_count": 9,
   "metadata": {},
   "outputs": [
    {
     "name": "stdout",
     "output_type": "stream",
     "text": [
      "They can form a triangle\n"
     ]
    }
   ],
   "source": [
    "a1 = float(input('what is the first angle? '))\n",
    "a2 = float(input('what is the second angle? '))\n",
    "a3 = float(input('what is the third angle? '))\n",
    "if a1 > 0 and a2 > 0 and a3 > 0:\n",
    "    if (a1 + a2 + a3) == 180:\n",
    "        print('They can form a triangle')\n",
    "    else:\n",
    "        print('Cannot form a triangle')\n",
    "else:\n",
    "    print('cannot form a triangle')"
   ]
  },
  {
   "cell_type": "markdown",
   "metadata": {},
   "source": [
    "Write a program that will take user input of cost price and selling price and determines whether its a loss or a profit."
   ]
  },
  {
   "cell_type": "code",
   "execution_count": 13,
   "metadata": {},
   "outputs": [
    {
     "name": "stdout",
     "output_type": "stream",
     "text": [
      "Profit!\n",
      "Profit is 100.00 and profit percentage is 50.00%\n"
     ]
    }
   ],
   "source": [
    "cp = float(input('What is the cost price of the product? '))\n",
    "sp = float(input('What is the selling price of the product? '))\n",
    "if (sp > cp):\n",
    "    print(\"Profit!\")\n",
    "    profit = sp - cp\n",
    "    profit_pct = (profit / cp ) * 100\n",
    "    print(f\"Profit is {profit:.2f} and profit percentage is {profit_pct:.2f}%\")\n",
    "else:\n",
    "    print(\"Loss!\")\n",
    "    loss = cp - sp\n",
    "    loss_pct = (loss / cp) * 100\n",
    "    print(f\"Loss is {loss:.2f} and loss percentage is {loss_pct:.2f}%\")"
   ]
  },
  {
   "cell_type": "markdown",
   "metadata": {},
   "source": [
    "Write a menu-driven program -\n",
    "- cm to ft\n",
    "- km to miles\n",
    "- USD to INR\n",
    "- exit"
   ]
  },
  {
   "cell_type": "code",
   "execution_count": 17,
   "metadata": {},
   "outputs": [
    {
     "name": "stdout",
     "output_type": "stream",
     "text": [
      "\n",
      "Convert to --\n",
      "      1. cm to ft\n",
      "      2. km to miles\n",
      "      3. USD to INR\n",
      "      4. exit\n",
      "      \n",
      "Exiting the program\n"
     ]
    }
   ],
   "source": [
    "print(\"\"\"\n",
    "Convert to --\n",
    "      1. cm to ft\n",
    "      2. km to miles\n",
    "      3. USD to INR\n",
    "      4. exit\n",
    "      \"\"\")\n",
    "your_choice = input(\"Select MENU!\")\n",
    "\n",
    "if your_choice == \"1\":\n",
    "    your_value = float(input('Enter your value: '))\n",
    "    if your_value > 0:\n",
    "        ft = your_value / 30.48\n",
    "        print(f\"{your_value}CM is {ft:.2f}FT\")\n",
    "    else:\n",
    "        print(\"Incorrect value, Try again!\")\n",
    "elif your_choice == \"2\":\n",
    "    your_value = float(input('Enter your value: '))\n",
    "    if your_value > 0:\n",
    "        miles = your_value / 1.609\n",
    "        print(f\"{your_value}KM is {miles:.2f}MILES\")\n",
    "    else:\n",
    "        print(\"Incorrect value, Try again!\")\n",
    "elif your_choice == \"3\":\n",
    "    your_value = float(input('Enter your value: '))\n",
    "    if your_value > 0:\n",
    "        inr = your_value * 83.89\n",
    "        print(f\"{your_value}USD is {inr:.2f}INR\")\n",
    "    else:\n",
    "        print(\"Incorrect value, Try again!\")\n",
    "elif your_choice == \"4\":\n",
    "    print(\"Exiting the program\")\n",
    "else:\n",
    "    print('Invalid menu choice, Exiting the program')\n"
   ]
  },
  {
   "cell_type": "markdown",
   "metadata": {},
   "source": [
    "Display Fibonacci series up to 10 terms.\n",
    "\n",
    "Note: The Fibonacci Sequence is a series of numbers. The next number is found by adding up the two numbers before it. The first two numbers are 0 and 1. For example, 0, 1, 1, 2, 3, 5, 8, 13, 21. The next number in this series above is 13+21 = 34"
   ]
  },
  {
   "cell_type": "code",
   "execution_count": 24,
   "metadata": {},
   "outputs": [
    {
     "name": "stdout",
     "output_type": "stream",
     "text": [
      "Fibonacci series with 10 terms: [0, 1, 1, 2, 3, 5, 8, 13, 21, 34]\n"
     ]
    }
   ],
   "source": [
    "# Accept input from the user for the number of terms\n",
    "num_terms = int(input(\"Enter the number of terms in the Fibonacci series: \"))\n",
    "\n",
    "# Initialize the Fibonacci series with the first two terms\n",
    "fibonacci_series = [0, 1]\n",
    "\n",
    "# Generate the Fibonacci series\n",
    "if num_terms <= 0:\n",
    "    print(\"Please enter a positive integer.\")\n",
    "elif num_terms == 1:\n",
    "    fibonacci_series = [0]\n",
    "else:\n",
    "    for _ in range(2, num_terms):\n",
    "        fibonacci_series.append(fibonacci_series[-1] + fibonacci_series[-2])\n",
    "\n",
    "# Print the Fibonacci series\n",
    "print(f\"Fibonacci series with {num_terms} terms: {fibonacci_series}\")"
   ]
  },
  {
   "cell_type": "markdown",
   "metadata": {},
   "source": [
    "Find the factorial of a given number.\n",
    "Write a program to use the loop to find the factorial of a given number.\n",
    "\n",
    "The factorial (symbol: !) means to multiply all whole numbers from the chosen number down to 1.\n",
    "\n",
    "For example: calculate the factorial of 5\n",
    "5! = 5 × 4 × 3 × 2 × 1 = 120"
   ]
  },
  {
   "cell_type": "code",
   "execution_count": 27,
   "metadata": {},
   "outputs": [
    {
     "name": "stdout",
     "output_type": "stream",
     "text": [
      "Factorial of 5 is 120\n"
     ]
    }
   ],
   "source": [
    "num = int(input('Factorial of: '))\n",
    "factorial = 1\n",
    "if num < 0:\n",
    "    print('Cannot calculate factorial of a negative number')\n",
    "elif num == 0:\n",
    "    print(\"factorial of 0 is 1\")\n",
    "else:\n",
    "    for i in range(1, num+1):\n",
    "        factorial = factorial*i\n",
    "print(f\"Factorial of {num} is {factorial}\")"
   ]
  },
  {
   "cell_type": "markdown",
   "metadata": {},
   "source": [
    "Reverse a given integer number"
   ]
  },
  {
   "cell_type": "code",
   "execution_count": 32,
   "metadata": {},
   "outputs": [
    {
     "name": "stdout",
     "output_type": "stream",
     "text": [
      "321\n"
     ]
    }
   ],
   "source": [
    "num = int(input(\"Enter the number:  \"))\n",
    "rev_num = 0\n",
    "while num != 0:\n",
    "    rem = num % 10\n",
    "    rev_num = rev_num *10 + rem\n",
    "    #print(rev_num)\n",
    "    num = num // 10\n",
    "print(rev_num)"
   ]
  },
  {
   "cell_type": "markdown",
   "metadata": {},
   "source": [
    "Take a user input as integer N. \n",
    "Find out the sum from 1 to N. If any number if divisible by 5, then skip that number. \n",
    "And if the sum is greater than 300, don't need to calculate the sum further more. \n",
    "Print the final result. And don't use for loop to solve this problem."
   ]
  },
  {
   "cell_type": "code",
   "execution_count": 63,
   "metadata": {},
   "outputs": [
    {
     "name": "stdout",
     "output_type": "stream",
     "text": [
      "Sum of numbers from 1 to 30 is 276\n"
     ]
    }
   ],
   "source": [
    "def calculate_sum_upto_n(num):\n",
    "    current_number = 1\n",
    "    total_sum = 0\n",
    "\n",
    "    while current_number <=num:\n",
    "        if current_number % 5 != 0:\n",
    "            total_sum = total_sum + current_number\n",
    "            #print(total_sum)\n",
    "            if (total_sum > 300):\n",
    "                total_sum = total_sum - current_number\n",
    "                break\n",
    "        \n",
    "        current_number = current_number + 1\n",
    "        \n",
    "    print(f'Sum of numbers from 1 to {num} is {total_sum}')\n",
    "\n",
    "calculate_sum_upto_n(30)"
   ]
  },
  {
   "cell_type": "markdown",
   "metadata": {},
   "source": [
    "Write a program that keeps on accepting a number from the user until the user enters Zero. \n",
    "Display the sum and average of all the numbers.\n"
   ]
  },
  {
   "cell_type": "code",
   "execution_count": 69,
   "metadata": {},
   "outputs": [
    {
     "name": "stdout",
     "output_type": "stream",
     "text": [
      "Total sum is 20 and count of numbers is 5\n",
      "Average of all the numbers is 4.0\n"
     ]
    }
   ],
   "source": [
    "count = 0\n",
    "sum = 0\n",
    "while True:\n",
    "    num = int(input('What is the number? '))\n",
    "    if num == 0:\n",
    "        break\n",
    "    sum = sum + num\n",
    "    count = count + 1\n",
    "print(f\"Total sum is {sum} and count of numbers is {count}\")\n",
    "if count > 0:\n",
    "    Average = sum / count\n",
    "else:\n",
    "    Average = 0\n",
    "print(f\"Average of all the numbers is {Average}\")\n"
   ]
  },
  {
   "cell_type": "markdown",
   "metadata": {},
   "source": [
    "Write a program which will find all such numbers which are divisible by 7 but are not a multiple of 5, between 2000 and 3200 (both included). The numbers obtained should be printed in a comma-separated sequence on a single line."
   ]
  },
  {
   "cell_type": "code",
   "execution_count": 71,
   "metadata": {},
   "outputs": [
    {
     "name": "stdout",
     "output_type": "stream",
     "text": [
      "2002,2009,2016,2023,2037,2044,2051,2058,2072,2079,2086,2093,2107,2114,2121,2128,2142,2149,2156,2163,2177,2184,2191,2198,2212,2219,2226,2233,2247,2254,2261,2268,2282,2289,2296,2303,2317,2324,2331,2338,2352,2359,2366,2373,2387,2394,2401,2408,2422,2429,2436,2443,2457,2464,2471,2478,2492,2499,2506,2513,2527,2534,2541,2548,2562,2569,2576,2583,2597,2604,2611,2618,2632,2639,2646,2653,2667,2674,2681,2688,2702,2709,2716,2723,2737,2744,2751,2758,2772,2779,2786,2793,2807,2814,2821,2828,2842,2849,2856,2863,2877,2884,2891,2898,2912,2919,2926,2933,2947,2954,2961,2968,2982,2989,2996,3003,3017,3024,3031,3038,3052,3059,3066,3073,3087,3094,3101,3108,3122,3129,3136,3143,3157,3164,3171,3178,3192,3199\n"
     ]
    }
   ],
   "source": [
    "my_list = []\n",
    "for i in range(2000,3201):\n",
    "    if (i % 7) == 0 and (i % 5) != 0:\n",
    "        my_list.append(str(i))\n",
    "print(\",\".join(my_list))\n"
   ]
  },
  {
   "cell_type": "markdown",
   "metadata": {},
   "source": [
    "\n"
   ]
  },
  {
   "cell_type": "markdown",
   "metadata": {},
   "source": [
    "Write a program, which will find all such numbers between 1000 and 3000 (both included) \n",
    "such that each digit of the number is an even number. \n",
    "The numbers obtained should be printed in a space-separated sequence on a single line."
   ]
  },
  {
   "cell_type": "code",
   "execution_count": 81,
   "metadata": {},
   "outputs": [
    {
     "name": "stdout",
     "output_type": "stream",
     "text": [
      "2000,2002,2004,2006,2008,2020,2022,2024,2026,2028,2040,2042,2044,2046,2048,2060,2062,2064,2066,2068,2080,2082,2084,2086,2088,2200,2202,2204,2206,2208,2220,2222,2224,2226,2228,2240,2242,2244,2246,2248,2260,2262,2264,2266,2268,2280,2282,2284,2286,2288,2400,2402,2404,2406,2408,2420,2422,2424,2426,2428,2440,2442,2444,2446,2448,2460,2462,2464,2466,2468,2480,2482,2484,2486,2488,2600,2602,2604,2606,2608,2620,2622,2624,2626,2628,2640,2642,2644,2646,2648,2660,2662,2664,2666,2668,2680,2682,2684,2686,2688,2800,2802,2804,2806,2808,2820,2822,2824,2826,2828,2840,2842,2844,2846,2848,2860,2862,2864,2866,2868,2880,2882,2884,2886,2888\n"
     ]
    }
   ],
   "source": [
    "my_list = []\n",
    "for i in range(1000,3001):\n",
    "    num_str = str(i)\n",
    "    if all(int(digit)%2 == 0 for digit in num_str):\n",
    "        my_list.append(num_str)\n",
    "print(\",\".join(my_list))"
   ]
  },
  {
   "cell_type": "markdown",
   "metadata": {},
   "source": [
    "A robot moves in a plane starting from the original point (0,0). \n",
    "The robot can move toward UP, DOWN, LEFT and RIGHT with a given steps.\n",
    "\n",
    "UP 5\n",
    "DOWN 3\n",
    "LEFT 3\n",
    "RIGHT 2\n",
    "!\n",
    "\n",
    "The numbers after the direction are steps.\n",
    "\n",
    "! means robot stop there.\n",
    "\n",
    "Please write a program to compute the distance from current position after a sequence of movement and original point."
   ]
  },
  {
   "cell_type": "code",
   "execution_count": 83,
   "metadata": {},
   "outputs": [
    {
     "name": "stdout",
     "output_type": "stream",
     "text": [
      "Distance from the original point: 2.00\n"
     ]
    }
   ],
   "source": [
    "import math\n",
    "\n",
    "def compute_distance(movements):\n",
    "    # Initialize starting position\n",
    "    x, y = 0, 0\n",
    "    \n",
    "    # Process each movement\n",
    "    for movement in movements:\n",
    "        # Check if the robot should stop\n",
    "        if movement == \"!\":\n",
    "            break\n",
    "        \n",
    "        # Split the direction and steps\n",
    "        direction, steps = movement.split()\n",
    "        steps = int(steps)\n",
    "        \n",
    "        # Update coordinates based on the direction\n",
    "        if direction == \"UP\":\n",
    "            y += steps\n",
    "        elif direction == \"DOWN\":\n",
    "            y -= steps\n",
    "        elif direction == \"LEFT\":\n",
    "            x -= steps\n",
    "        elif direction == \"RIGHT\":\n",
    "            x += steps\n",
    "    \n",
    "    # Compute the Euclidean distance from the origin\n",
    "    distance = math.sqrt(x**2 + y**2)\n",
    "    return distance\n",
    "\n",
    "# Example input\n",
    "movements = [\"UP 5\", \"DOWN 3\", \"LEFT 2\", \"RIGHT 2\", \"!\"]\n",
    "\n",
    "# Compute and print the distance\n",
    "result = compute_distance(movements)\n",
    "print(f\"Distance from the original point: {result:.2f}\")"
   ]
  },
  {
   "cell_type": "markdown",
   "metadata": {},
   "source": [
    "Write a program to print whether a given number is a prime number or not"
   ]
  },
  {
   "cell_type": "code",
   "execution_count": 88,
   "metadata": {},
   "outputs": [
    {
     "name": "stdout",
     "output_type": "stream",
     "text": [
      "12 is not a prime number.\n"
     ]
    }
   ],
   "source": [
    "# Accept input from the user\n",
    "num = int(input(\"Enter a number to check if it is prime: \"))\n",
    "\n",
    "# Prime number check logic\n",
    "if num <= 1:\n",
    "    print(f\"{num} is not a prime number.\")\n",
    "else:\n",
    "    is_prime = True  # Assume the number is prime initially\n",
    "    for i in range(2, int(num ** 0.5) + 1):\n",
    "        if num % i == 0:\n",
    "            is_prime = False  # Found a divisor, so it's not prime\n",
    "            break\n",
    "\n",
    "    # Output the result based on the is_prime flag\n",
    "    if is_prime:\n",
    "        print(f\"{num} is a prime number.\")\n",
    "    else:\n",
    "        print(f\"{num} is not a prime number.\")"
   ]
  },
  {
   "cell_type": "code",
   "execution_count": null,
   "metadata": {},
   "outputs": [],
   "source": []
  }
 ],
 "metadata": {
  "kernelspec": {
   "display_name": "myenv",
   "language": "python",
   "name": "python3"
  },
  "language_info": {
   "codemirror_mode": {
    "name": "ipython",
    "version": 3
   },
   "file_extension": ".py",
   "mimetype": "text/x-python",
   "name": "python",
   "nbconvert_exporter": "python",
   "pygments_lexer": "ipython3",
   "version": "3.12.4"
  }
 },
 "nbformat": 4,
 "nbformat_minor": 2
}
