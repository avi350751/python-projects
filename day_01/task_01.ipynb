{
 "cells": [
  {
   "cell_type": "markdown",
   "metadata": {},
   "source": [
    "Given String:\n",
    "\n",
    "\"Data\" \"Science\" \"Mentorship\" \"Program\" \n",
    "\"By\" \"CampusX\"\n",
    "\n",
    "Expected Output:\n",
    "Data-Science-Mentorship-Program-started-By-CampusX"
   ]
  },
  {
   "cell_type": "code",
   "execution_count": 2,
   "metadata": {},
   "outputs": [
    {
     "name": "stdout",
     "output_type": "stream",
     "text": [
      "Data-Science-Mentorship-Program-By-CampusX\n"
     ]
    }
   ],
   "source": [
    "print(\"Data\",\"Science\",\"Mentorship\",\"Program\",\"By\",\"CampusX\",sep=\"-\")"
   ]
  },
  {
   "cell_type": "markdown",
   "metadata": {},
   "source": [
    "Write a program that will convert celsius value to fahrenheit"
   ]
  },
  {
   "cell_type": "code",
   "execution_count": 3,
   "metadata": {},
   "outputs": [
    {
     "name": "stdout",
     "output_type": "stream",
     "text": [
      "Temperature in Fahrenheit:  90.5\n"
     ]
    }
   ],
   "source": [
    "temp = float(input('What is the temperature in celsius? '))\n",
    "temp_in_fah = ((9 * temp) / 5 ) + 32\n",
    "print('Temperature in Fahrenheit: ', temp_in_fah)"
   ]
  },
  {
   "cell_type": "markdown",
   "metadata": {},
   "source": [
    "Take 2 numbers as input from the user. Write a program to swap the numbers without using any special python syntax."
   ]
  },
  {
   "cell_type": "code",
   "execution_count": 5,
   "metadata": {},
   "outputs": [
    {
     "name": "stdout",
     "output_type": "stream",
     "text": [
      "Swapped numbers are: 123 12\n"
     ]
    }
   ],
   "source": [
    "x_num = int(input('Your first number: '))\n",
    "y_num = int(input(\"Your second number: \"))\n",
    "temp = x_num\n",
    "x_num = y_num\n",
    "y_num = temp\n",
    "print(f\"Swapped numbers are:\",x_num,y_num)"
   ]
  },
  {
   "cell_type": "code",
   "execution_count": 6,
   "metadata": {},
   "outputs": [
    {
     "name": "stdout",
     "output_type": "stream",
     "text": [
      "Swapped numbers are: 23 12\n"
     ]
    }
   ],
   "source": [
    "# Using tuple unpacking\n",
    "x_num = int(input('Your first number: '))\n",
    "y_num = int(input(\"Your second number: \"))\n",
    "x_num , y_num = y_num, x_num\n",
    "print(f\"Swapped numbers are:\",x_num,y_num)"
   ]
  },
  {
   "cell_type": "markdown",
   "metadata": {},
   "source": [
    "Write a program to find the euclidean distance between two coordinates. Take both the coordinates from the user as input."
   ]
  },
  {
   "cell_type": "code",
   "execution_count": 10,
   "metadata": {},
   "outputs": [
    {
     "name": "stdout",
     "output_type": "stream",
     "text": [
      "Collecting numpy\n",
      "  Using cached numpy-2.1.0-cp312-cp312-macosx_14_0_arm64.whl.metadata (60 kB)\n",
      "Using cached numpy-2.1.0-cp312-cp312-macosx_14_0_arm64.whl (5.1 MB)\n",
      "Installing collected packages: numpy\n",
      "Successfully installed numpy-2.1.0\n",
      "\n",
      "\u001b[1m[\u001b[0m\u001b[34;49mnotice\u001b[0m\u001b[1;39;49m]\u001b[0m\u001b[39;49m A new release of pip is available: \u001b[0m\u001b[31;49m24.0\u001b[0m\u001b[39;49m -> \u001b[0m\u001b[32;49m24.2\u001b[0m\n",
      "\u001b[1m[\u001b[0m\u001b[34;49mnotice\u001b[0m\u001b[1;39;49m]\u001b[0m\u001b[39;49m To update, run: \u001b[0m\u001b[32;49mpip install --upgrade pip\u001b[0m\n",
      "Note: you may need to restart the kernel to use updated packages.\n"
     ]
    }
   ],
   "source": [
    "#pip install numpy"
   ]
  },
  {
   "cell_type": "code",
   "execution_count": 13,
   "metadata": {},
   "outputs": [
    {
     "name": "stdout",
     "output_type": "stream",
     "text": [
      "distance betwwen the points:  5.0\n"
     ]
    }
   ],
   "source": [
    "\n",
    "import numpy as np\n",
    "x1 = int(input('X of 1st coordinate: '))\n",
    "y1 = int(input('Y of 2nd coordinate: '))\n",
    "x2 = int(input('X of 2nd coordinate: '))\n",
    "y2 = int(input('Y of 2nd coordinate: '))\n",
    "distance = np.sqrt((x2 - x1)**2 + (y2 - y1)**2)\n",
    "print(\"distance betwwen the points: \",distance)"
   ]
  },
  {
   "cell_type": "markdown",
   "metadata": {},
   "source": [
    "Write a program to find the simple interest when the value of principle,rate of interest and time period is provided by the user."
   ]
  },
  {
   "cell_type": "code",
   "execution_count": 14,
   "metadata": {},
   "outputs": [
    {
     "name": "stdout",
     "output_type": "stream",
     "text": [
      "Simple Interest:  1200.0\n"
     ]
    }
   ],
   "source": [
    "p = float(input('Principal amount: '))\n",
    "r = float(input('rate of interest: '))\n",
    "t = int(input('number of years as time '))\n",
    "simple_int = (p * r * t)/100\n",
    "print(\"Simple Interest: \", simple_int)"
   ]
  },
  {
   "cell_type": "markdown",
   "metadata": {},
   "source": [
    "Write a program that will tell the number of dogs and chicken are there when the user will provide the value of total heads and legs."
   ]
  },
  {
   "cell_type": "code",
   "execution_count": 16,
   "metadata": {},
   "outputs": [
    {
     "name": "stdout",
     "output_type": "stream",
     "text": [
      "There are 1 chickens and 1 dogs.\n"
     ]
    }
   ],
   "source": [
    "total_heads = int(input(\"Number of heads: \"))\n",
    "total_legs = int(input(\"Number of legs: \"))\n",
    "# x is chicken and y is from dog\n",
    "# c + d = total_heads\n",
    "# 2c + 4d = total_legs ; considering chicken has two legs and dogs have 4 legs\n",
    "#2*d = total_legs - 2*total_heads\n",
    "\n",
    "dogs = (total_legs - 2 * total_heads) // 2\n",
    "chickens = total_heads - dogs\n",
    "\n",
    "# Check if the solution is valid\n",
    "if dogs >= 0 and chickens >= 0 and 2 * chickens + 4 * dogs == total_legs:\n",
    "    print(f\"There are {chickens} chickens and {dogs} dogs.\")\n",
    "else:\n",
    "    print(\"The input values are not valid for the number of heads and legs.\")"
   ]
  },
  {
   "cell_type": "markdown",
   "metadata": {},
   "source": [
    "Write a program to find the sum of squares of first n natural numbers where n will be provided by the user."
   ]
  },
  {
   "cell_type": "code",
   "execution_count": 20,
   "metadata": {},
   "outputs": [
    {
     "name": "stdout",
     "output_type": "stream",
     "text": [
      "Sum of first 3 natural numbers is:  14\n"
     ]
    }
   ],
   "source": [
    "n_natural_num = int(input(\"How many numbers? \"))\n",
    "sum_of_sq = 0\n",
    "for i in range(1,(n_natural_num+1)):\n",
    "    sum_of_sq = sum_of_sq + (i*i)\n",
    "print(f\"Sum of first {n_natural_num} natural numbers is: \",sum_of_sq)"
   ]
  },
  {
   "cell_type": "markdown",
   "metadata": {},
   "source": [
    "Given the first 2 terms of an Arithmetic Series.Find the Nth term of the series. Assume all inputs are provided by the user."
   ]
  },
  {
   "cell_type": "code",
   "execution_count": 22,
   "metadata": {},
   "outputs": [
    {
     "name": "stdout",
     "output_type": "stream",
     "text": [
      "first term is 2, 2nd term is 6 and 8th term of the series is:  30\n"
     ]
    }
   ],
   "source": [
    "# T_n = a + (n -1)*d\n",
    "x = int(input(\"1st term: \"))\n",
    "y = int(input(\"2nd term: \"))\n",
    "n = int(input(\"Till which term: \"))\n",
    "d =  y - x\n",
    "T_n = x + (n -1)*d\n",
    "print(f\"first term is {x}, 2nd term is {y} and {n}th term of the series is: \",T_n)\n",
    "#2,6,10,14,18,22,26,30\n"
   ]
  },
  {
   "cell_type": "markdown",
   "metadata": {},
   "source": [
    "Given 2 fractions, find the sum of those 2 fractions. Take the numerator and denominator values of the fractions from the user."
   ]
  },
  {
   "cell_type": "code",
   "execution_count": 26,
   "metadata": {},
   "outputs": [
    {
     "name": "stdout",
     "output_type": "stream",
     "text": [
      "Sum of the fractions 2/4 and 3/6 is:  1.0\n"
     ]
    }
   ],
   "source": [
    "x1 = int(input('num1: '))\n",
    "y1 = int(input('den1: '))\n",
    "x2 = int(input('num2: '))\n",
    "y2 = int(input('den2: '))\n",
    "sum_of_the_fractions = (x1*y2 + x2*y1)/(y1*y2)\n",
    "print(f\"Sum of the fractions {x1}/{y1} and {x2}/{y2} is: \",sum_of_the_fractions)"
   ]
  },
  {
   "cell_type": "markdown",
   "metadata": {},
   "source": [
    "Given the height, width and breadth of a milk tank, you have to find out how many glasses of milk can be obtained? Assume all the inputs are provided by the user."
   ]
  },
  {
   "cell_type": "code",
   "execution_count": 27,
   "metadata": {},
   "outputs": [
    {
     "name": "stdout",
     "output_type": "stream",
     "text": [
      "Number of glasses of milk that can be obtained: 16\n"
     ]
    }
   ],
   "source": [
    "# Accept input from the user for the tank dimensions\n",
    "height = float(input(\"Enter the height of the milk tank (in cm): \"))\n",
    "width = float(input(\"Enter the width of the milk tank (in cm): \"))\n",
    "breadth = float(input(\"Enter the breadth of the milk tank (in cm): \"))\n",
    "\n",
    "# Accept input for the volume of a glass\n",
    "glass_volume = float(input(\"Enter the volume of a single glass (in cubic cm): \"))\n",
    "\n",
    "# Calculate the volume of the tank\n",
    "tank_volume = height * width * breadth\n",
    "\n",
    "# Calculate the number of glasses\n",
    "number_of_glasses = tank_volume // glass_volume  # Use floor division to get the whole number of glasses\n",
    "\n",
    "# Print the result\n",
    "print(f\"Number of glasses of milk that can be obtained: {int(number_of_glasses)}\")"
   ]
  },
  {
   "cell_type": "markdown",
   "metadata": {},
   "source": []
  }
 ],
 "metadata": {
  "kernelspec": {
   "display_name": "myenv",
   "language": "python",
   "name": "python3"
  },
  "language_info": {
   "codemirror_mode": {
    "name": "ipython",
    "version": 3
   },
   "file_extension": ".py",
   "mimetype": "text/x-python",
   "name": "python",
   "nbconvert_exporter": "python",
   "pygments_lexer": "ipython3",
   "version": "3.12.4"
  }
 },
 "nbformat": 4,
 "nbformat_minor": 2
}
